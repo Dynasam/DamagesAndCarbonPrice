{
 "cells": [
  {
   "cell_type": "code",
   "execution_count": 1,
   "metadata": {},
   "outputs": [],
   "source": [
    "import numpy as np\n",
    "import json_tricks \n",
    "\n",
    "import glob\n",
    "import os\n",
    "import re\n",
    "\n",
    "import pandas as pd"
   ]
  },
  {
   "cell_type": "code",
   "execution_count": 2,
   "metadata": {},
   "outputs": [],
   "source": [
    "def load_all(file=\"*\"):\n",
    "    filenames = glob.glob('output/'+file+'.json')\n",
    "    if len(filenames) == 0:\n",
    "        raise Exception(\"No files match the given pattern.\")\n",
    "\n",
    "    p_experiment = re.compile('.*(experiment_[a-zA-Z0-9-]+)_')\n",
    "\n",
    "    outputs = {}\n",
    "    \n",
    "    for filename in filenames:\n",
    "        # First get experiment name\n",
    "        m = re.match(p_experiment, filename)\n",
    "        experiment = m.groups()[0] if m else 'default'\n",
    "        if experiment not in outputs:\n",
    "            outputs[experiment] = []\n",
    "\n",
    "        i = len(outputs[experiment])\n",
    "        full_filename = u'\\\\\\\\?\\\\' + os.path.abspath(filename)\n",
    "        with open(full_filename) as fh:\n",
    "            o = json_tricks.load(fh, preserve_order=False)\n",
    "            \n",
    "        outputs[experiment].append(o)\n",
    "\n",
    "    return outputs"
   ]
  },
  {
   "cell_type": "code",
   "execution_count": 3,
   "metadata": {},
   "outputs": [],
   "source": [
    "def create_CSV(name, suffix='', extra_param_names = []):\n",
    "    outputs = load_all(name+'_*')\n",
    "    all_df = [pd.DataFrame({\n",
    "        'name': outp['meta']['shorttitle'],\n",
    "        'year': outp['meta']['t_values_years'],\n",
    "        'p': outp['p'],\n",
    "        'E': outp['E'],\n",
    "        'baseline': outp['baseline'],\n",
    "        'Y': outp['Y'],\n",
    "        'Ygross': outp['Ygross'],\n",
    "        'damageFraction': outp['damageFraction'],\n",
    "        'abatementFraction': (outp['Y'] - (outp['investments'] + outp['consumption'])) / outp['Ygross'],\n",
    "        'CE': outp['cumEmissions'],\n",
    "        'temp': outp['temp'],\n",
    "        'SSP': outp['meta']['params'].default_params['SSP'],\n",
    "        'damage': outp['meta']['params'].default_params['damage'],\n",
    "        'TCRE': outp['meta']['params'].default_params['TCRE'],\n",
    "        'cost_level': outp['meta']['params'].default_params['cost_level'],\n",
    "        'r': outp['meta']['params'].default_params['r'],\n",
    "        'gamma': outp['meta']['params'].default_params['gamma'],\n",
    "        'beta': outp['meta']['params'].default_params['beta'],\n",
    "        'elasmu': outp['meta']['params'].default_params['elasmu'],\n",
    "        'on_utility': outp['meta']['params'].default_params['maximise_utility'] if 'maximise_utility' in outp['meta']['params'].default_params else np.nan,\n",
    "        **{name: (outp['meta']['params'].default_params[name] if name in outp['meta']['params'].default_params else '') for name in extra_param_names}\n",
    "    }) for outp in outputs[name]]\n",
    "\n",
    "    df = pd.concat(all_df)\n",
    "\n",
    "    df['p_rel'] = df['p'] / df['gamma']\n",
    "    \n",
    "    df.to_csv('{}{}.csv'.format(name,suffix), index=False)\n",
    "    "
   ]
  },
  {
   "cell_type": "code",
   "execution_count": 5,
   "metadata": {},
   "outputs": [
    {
     "name": "stdout",
     "output_type": "stream",
     "text": [
      "Wall time: 58.8 s\n"
     ]
    }
   ],
   "source": [
    "%%time\n",
    "create_CSV(\"experiment_all\", extra_param_names=['carbonbudget', 'useBaselineCO2Intensity', 'maxReductParam', 'minEmissions'])"
   ]
  },
  {
   "cell_type": "code",
   "execution_count": 7,
   "metadata": {},
   "outputs": [
    {
     "name": "stdout",
     "output_type": "stream",
     "text": [
      "Wall time: 11.4 s\n"
     ]
    }
   ],
   "source": [
    "%%time\n",
    "create_CSV(\"experiment_alldrupp\", extra_param_names=['carbonbudget', 'useBaselineCO2Intensity', 'maxReductParam', 'minEmissions'])"
   ]
  },
  {
   "cell_type": "code",
   "execution_count": 6,
   "metadata": {},
   "outputs": [
    {
     "name": "stdout",
     "output_type": "stream",
     "text": [
      "Wall time: 52.2 s\n"
     ]
    }
   ],
   "source": [
    "%%time\n",
    "create_CSV('experiment_allcba', extra_param_names=['useBaselineCO2Intensity', 'maxReductParam', 'minEmissions'])"
   ]
  },
  {
   "cell_type": "code",
   "execution_count": 7,
   "metadata": {},
   "outputs": [
    {
     "name": "stderr",
     "output_type": "stream",
     "text": [
      "C:\\Users\\wijstvdk\\AppData\\Local\\Continuum\\anaconda3\\lib\\site-packages\\ipykernel_launcher.py:25: RuntimeWarning: invalid value encountered in true_divide\n"
     ]
    },
    {
     "name": "stdout",
     "output_type": "stream",
     "text": [
      "Wall time: 3.49 s\n"
     ]
    }
   ],
   "source": [
    "%%time\n",
    "create_CSV('experiment_allcbadrupp', extra_param_names=['useBaselineCO2Intensity', 'maxReductParam', 'minEmissions'])"
   ]
  },
  {
   "cell_type": "code",
   "execution_count": 6,
   "metadata": {},
   "outputs": [
    {
     "name": "stdout",
     "output_type": "stream",
     "text": [
      "Wall time: 237 ms\n"
     ]
    }
   ],
   "source": [
    "%%time\n",
    "create_CSV(\"experiment_extra\", extra_param_names=['carbonbudget', 'useBaselineCO2Intensity', 'maxReductParam', 'minEmissions'])"
   ]
  },
  {
   "cell_type": "code",
   "execution_count": 5,
   "metadata": {},
   "outputs": [
    {
     "name": "stdout",
     "output_type": "stream",
     "text": [
      "Wall time: 1.27 s\n"
     ]
    }
   ],
   "source": [
    "%%time\n",
    "create_CSV(\"experiment_cbaminemissions\", extra_param_names=['carbonbudget', 'useBaselineCO2Intensity', 'maxReductParam', 'minEmissions'])"
   ]
  },
  {
   "cell_type": "code",
   "execution_count": 16,
   "metadata": {},
   "outputs": [
    {
     "name": "stdout",
     "output_type": "stream",
     "text": [
      "Wall time: 157 ms\n"
     ]
    }
   ],
   "source": [
    "%%time\n",
    "create_CSV('experiment_extracba', extra_param_names=['useBaselineCO2Intensity', 'maxReductParam', 'minEmissions'])"
   ]
  },
  {
   "cell_type": "code",
   "execution_count": 19,
   "metadata": {},
   "outputs": [
    {
     "name": "stdout",
     "output_type": "stream",
     "text": [
      "Wall time: 713 ms\n"
     ]
    }
   ],
   "source": [
    "%%time\n",
    "create_CSV('experiment_drupp', extra_param_names=['useBaselineCO2Intensity', 'maxReductParam', 'minEmissions'])"
   ]
  },
  {
   "cell_type": "code",
   "execution_count": 21,
   "metadata": {},
   "outputs": [
    {
     "name": "stdout",
     "output_type": "stream",
     "text": [
      "Wall time: 61.8 ms\n"
     ]
    }
   ],
   "source": [
    "%%time\n",
    "create_CSV('experiment_druppthree', extra_param_names=['useBaselineCO2Intensity', 'maxReductParam', 'minEmissions'])"
   ]
  }
 ],
 "metadata": {
  "kernelspec": {
   "display_name": "Python 3",
   "language": "python",
   "name": "python3"
  },
  "language_info": {
   "codemirror_mode": {
    "name": "ipython",
    "version": 3
   },
   "file_extension": ".py",
   "mimetype": "text/x-python",
   "name": "python",
   "nbconvert_exporter": "python",
   "pygments_lexer": "ipython3",
   "version": "3.7.4"
  }
 },
 "nbformat": 4,
 "nbformat_minor": 2
}
